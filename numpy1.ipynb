{
 "cells": [
  {
   "cell_type": "code",
   "execution_count": 1,
   "id": "f04839c6-61da-4505-8030-c43f15829b37",
   "metadata": {},
   "outputs": [],
   "source": [
    "import numpy as np"
   ]
  },
  {
   "cell_type": "code",
   "execution_count": 3,
   "id": "47f2813c-e84b-4f16-b783-2d0eceba5fd5",
   "metadata": {},
   "outputs": [],
   "source": [
    "arr1 = np.array([12,65,990,132])"
   ]
  },
  {
   "cell_type": "code",
   "execution_count": 5,
   "id": "10d0e49c-f53a-4372-9357-ac12daa4ad55",
   "metadata": {},
   "outputs": [
    {
     "data": {
      "text/plain": [
       "array([ 12,  65, 990, 132])"
      ]
     },
     "execution_count": 5,
     "metadata": {},
     "output_type": "execute_result"
    }
   ],
   "source": [
    "arr1"
   ]
  },
  {
   "cell_type": "code",
   "execution_count": 9,
   "id": "bc96cbb5-6600-4f55-8f2a-93cd97bcd731",
   "metadata": {},
   "outputs": [
    {
     "data": {
      "text/plain": [
       "array([0.12, 0.65, 9.9 , 1.32])"
      ]
     },
     "execution_count": 9,
     "metadata": {},
     "output_type": "execute_result"
    }
   ],
   "source": [
    "arr1/100"
   ]
  },
  {
   "cell_type": "code",
   "execution_count": 11,
   "id": "fa21185d-21a6-414b-ac0c-a68d4f645b0f",
   "metadata": {},
   "outputs": [
    {
     "data": {
      "text/plain": [
       "array([0.06 , 0.325, 4.95 , 0.66 ])"
      ]
     },
     "execution_count": 11,
     "metadata": {},
     "output_type": "execute_result"
    }
   ],
   "source": [
    "arr1/200"
   ]
  },
  {
   "cell_type": "code",
   "execution_count": 13,
   "id": "715f0414-7b62-45e1-89a5-9c67d5dc2a13",
   "metadata": {},
   "outputs": [
    {
     "data": {
      "text/plain": [
       "array([ 12.,  65., 990., 132.])"
      ]
     },
     "execution_count": 13,
     "metadata": {},
     "output_type": "execute_result"
    }
   ],
   "source": [
    "arr1/1"
   ]
  },
  {
   "cell_type": "code",
   "execution_count": 15,
   "id": "c16bf301-16cc-4f0e-a5f2-3daf489e041b",
   "metadata": {},
   "outputs": [
    {
     "data": {
      "text/plain": [
       "(4,)"
      ]
     },
     "execution_count": 15,
     "metadata": {},
     "output_type": "execute_result"
    }
   ],
   "source": [
    "arr1.shape"
   ]
  },
  {
   "cell_type": "code",
   "execution_count": 17,
   "id": "6c282d54-524e-4454-a155-bfb09423f346",
   "metadata": {},
   "outputs": [
    {
     "data": {
      "text/plain": [
       "numpy.ndarray"
      ]
     },
     "execution_count": 17,
     "metadata": {},
     "output_type": "execute_result"
    }
   ],
   "source": [
    "type(arr1)"
   ]
  },
  {
   "cell_type": "code",
   "execution_count": 31,
   "id": "fb06e106-ef0c-4d3b-a17c-51d7ad0dddc4",
   "metadata": {},
   "outputs": [],
   "source": [
    "two_dim = np.array([[129, 76, 0], [90, 100, 120]])"
   ]
  },
  {
   "cell_type": "code",
   "execution_count": 35,
   "id": "c53b7f01-f7a6-4a0b-b640-46bed05c2238",
   "metadata": {},
   "outputs": [
    {
     "data": {
      "text/plain": [
       "array([[ 12.9,  76. ,   0. ],\n",
       "       [ 90. , 100. , 120. ]])"
      ]
     },
     "execution_count": 35,
     "metadata": {},
     "output_type": "execute_result"
    }
   ],
   "source": [
    "two_dim"
   ]
  },
  {
   "cell_type": "code",
   "execution_count": 37,
   "id": "43c0bc21-57c3-4a44-916c-e960b53502d4",
   "metadata": {},
   "outputs": [
    {
     "data": {
      "text/plain": [
       "numpy.ndarray"
      ]
     },
     "execution_count": 37,
     "metadata": {},
     "output_type": "execute_result"
    }
   ],
   "source": [
    "type(two_dim)"
   ]
  },
  {
   "cell_type": "code",
   "execution_count": 41,
   "id": "ea9c468d-60a0-48f5-90c1-50fe808f8436",
   "metadata": {},
   "outputs": [
    {
     "data": {
      "text/plain": [
       "(2, 3)"
      ]
     },
     "execution_count": 41,
     "metadata": {},
     "output_type": "execute_result"
    }
   ],
   "source": [
    "two_dim.shape"
   ]
  },
  {
   "cell_type": "code",
   "execution_count": 45,
   "id": "ac4c922c-f616-47c2-b669-717b3a8e74f0",
   "metadata": {},
   "outputs": [],
   "source": [
    "name = np.array([[\"Nimish\",\"Omkar\",\"Sagar\"],[\"Umesh\",\"Radha\",\"Tina\"]])"
   ]
  },
  {
   "cell_type": "code",
   "execution_count": 53,
   "id": "2ab454dc-1836-4ba8-b264-e5cb59a8cc3f",
   "metadata": {},
   "outputs": [],
   "source": [
    "#Three Dimensional Array "
   ]
  },
  {
   "cell_type": "code",
   "execution_count": 57,
   "id": "6f754ef9-e708-426e-88fa-623623effff2",
   "metadata": {},
   "outputs": [],
   "source": [
    "three_dim = np.array([[\"Reema\",\"Jaswant\",\"Kavita\"],[\"Salman\",\"Pamela\",\"Oliver\"],[\"Hemant\",\"yash\",\"Nandani\"]])"
   ]
  },
  {
   "cell_type": "code",
   "execution_count": 59,
   "id": "58ef699a-1f00-4a43-bf29-06b67d10f80f",
   "metadata": {},
   "outputs": [
    {
     "data": {
      "text/plain": [
       "array([['Reema', 'Jaswant', 'Kavita'],\n",
       "       ['Salman', 'Pamela', 'Oliver'],\n",
       "       ['Hemant', 'yash', 'Nandani']], dtype='<U7')"
      ]
     },
     "execution_count": 59,
     "metadata": {},
     "output_type": "execute_result"
    }
   ],
   "source": [
    "three_dim"
   ]
  },
  {
   "cell_type": "code",
   "execution_count": 61,
   "id": "c7a59211-d03a-456b-8be6-28caa61d05af",
   "metadata": {},
   "outputs": [
    {
     "data": {
      "text/plain": [
       "(3, 3)"
      ]
     },
     "execution_count": 61,
     "metadata": {},
     "output_type": "execute_result"
    }
   ],
   "source": [
    "three_dim.shape"
   ]
  },
  {
   "cell_type": "code",
   "execution_count": 70,
   "id": "32be176e-065f-45d8-ac21-b7358a6f6987",
   "metadata": {},
   "outputs": [],
   "source": [
    "import pandas as pd"
   ]
  },
  {
   "cell_type": "code",
   "execution_count": 72,
   "id": "9db2fc31-50ef-426b-aa9e-0e6374cee950",
   "metadata": {},
   "outputs": [],
   "source": [
    "students = {'rollno':[10,11,12,13,14], 'name':['shivam', 'nimish', 'amit', 'nikita', 'sapna'], 'marks':[63, 75, 78, 84,86]}"
   ]
  },
  {
   "cell_type": "code",
   "execution_count": 74,
   "id": "1d1ca855-29f3-4116-89c9-83fdbc1e4a26",
   "metadata": {},
   "outputs": [
    {
     "data": {
      "text/plain": [
       "{'rollno': [10, 11, 12, 13, 14],\n",
       " 'name': ['shivam', 'nimish', 'amit', 'nikita', 'sapna'],\n",
       " 'marks': [63, 75, 78, 84, 86]}"
      ]
     },
     "execution_count": 74,
     "metadata": {},
     "output_type": "execute_result"
    }
   ],
   "source": [
    "students"
   ]
  },
  {
   "cell_type": "code",
   "execution_count": 76,
   "id": "3ad194d5-2ecd-4481-87e5-0dfaf8fc9529",
   "metadata": {},
   "outputs": [],
   "source": [
    "d1 = pd.DataFrame(students)"
   ]
  },
  {
   "cell_type": "code",
   "execution_count": 78,
   "id": "fdec65a4-a1ee-4e20-8561-17ab0e69e1e6",
   "metadata": {
    "scrolled": true
   },
   "outputs": [
    {
     "data": {
      "text/html": [
       "<div>\n",
       "<style scoped>\n",
       "    .dataframe tbody tr th:only-of-type {\n",
       "        vertical-align: middle;\n",
       "    }\n",
       "\n",
       "    .dataframe tbody tr th {\n",
       "        vertical-align: top;\n",
       "    }\n",
       "\n",
       "    .dataframe thead th {\n",
       "        text-align: right;\n",
       "    }\n",
       "</style>\n",
       "<table border=\"1\" class=\"dataframe\">\n",
       "  <thead>\n",
       "    <tr style=\"text-align: right;\">\n",
       "      <th></th>\n",
       "      <th>rollno</th>\n",
       "      <th>name</th>\n",
       "      <th>marks</th>\n",
       "    </tr>\n",
       "  </thead>\n",
       "  <tbody>\n",
       "    <tr>\n",
       "      <th>0</th>\n",
       "      <td>10</td>\n",
       "      <td>shivam</td>\n",
       "      <td>63</td>\n",
       "    </tr>\n",
       "    <tr>\n",
       "      <th>1</th>\n",
       "      <td>11</td>\n",
       "      <td>nimish</td>\n",
       "      <td>75</td>\n",
       "    </tr>\n",
       "    <tr>\n",
       "      <th>2</th>\n",
       "      <td>12</td>\n",
       "      <td>amit</td>\n",
       "      <td>78</td>\n",
       "    </tr>\n",
       "    <tr>\n",
       "      <th>3</th>\n",
       "      <td>13</td>\n",
       "      <td>nikita</td>\n",
       "      <td>84</td>\n",
       "    </tr>\n",
       "    <tr>\n",
       "      <th>4</th>\n",
       "      <td>14</td>\n",
       "      <td>sapna</td>\n",
       "      <td>86</td>\n",
       "    </tr>\n",
       "  </tbody>\n",
       "</table>\n",
       "</div>"
      ],
      "text/plain": [
       "   rollno    name  marks\n",
       "0      10  shivam     63\n",
       "1      11  nimish     75\n",
       "2      12    amit     78\n",
       "3      13  nikita     84\n",
       "4      14   sapna     86"
      ]
     },
     "execution_count": 78,
     "metadata": {},
     "output_type": "execute_result"
    }
   ],
   "source": [
    "d1"
   ]
  },
  {
   "cell_type": "code",
   "execution_count": 99,
   "id": "f11b27ae-0359-460a-b06e-7b9d12b7a759",
   "metadata": {},
   "outputs": [],
   "source": [
    "employee_name = {\n",
    "    \"employeeID\" : [1,2,3,4,5],\n",
    "    \"Name\": [\"Nimish Mothghare\",\"Sanika Kamble\",\"Damini Sharma\",\"Pamela anderson\",\"Ishita Rane\"],\n",
    "    \"Salary\": [1200,4300,7600,1200,7800]\n",
    "}"
   ]
  },
  {
   "cell_type": "code",
   "execution_count": 101,
   "id": "28c7026a-5f33-4424-a610-509c7824f5f0",
   "metadata": {},
   "outputs": [],
   "source": [
    "employee = pd.DataFrame(employee_name)\n"
   ]
  },
  {
   "cell_type": "code",
   "execution_count": 103,
   "id": "7fd1639a-2255-4614-92bc-36fbbcbc40e3",
   "metadata": {},
   "outputs": [
    {
     "data": {
      "text/html": [
       "<div>\n",
       "<style scoped>\n",
       "    .dataframe tbody tr th:only-of-type {\n",
       "        vertical-align: middle;\n",
       "    }\n",
       "\n",
       "    .dataframe tbody tr th {\n",
       "        vertical-align: top;\n",
       "    }\n",
       "\n",
       "    .dataframe thead th {\n",
       "        text-align: right;\n",
       "    }\n",
       "</style>\n",
       "<table border=\"1\" class=\"dataframe\">\n",
       "  <thead>\n",
       "    <tr style=\"text-align: right;\">\n",
       "      <th></th>\n",
       "      <th>employeeID</th>\n",
       "      <th>Name</th>\n",
       "      <th>Salary</th>\n",
       "    </tr>\n",
       "  </thead>\n",
       "  <tbody>\n",
       "    <tr>\n",
       "      <th>0</th>\n",
       "      <td>1</td>\n",
       "      <td>Nimish Mothghare</td>\n",
       "      <td>1200</td>\n",
       "    </tr>\n",
       "    <tr>\n",
       "      <th>1</th>\n",
       "      <td>2</td>\n",
       "      <td>Sanika Kamble</td>\n",
       "      <td>4300</td>\n",
       "    </tr>\n",
       "    <tr>\n",
       "      <th>2</th>\n",
       "      <td>3</td>\n",
       "      <td>Damini Sharma</td>\n",
       "      <td>7600</td>\n",
       "    </tr>\n",
       "    <tr>\n",
       "      <th>3</th>\n",
       "      <td>4</td>\n",
       "      <td>Pamela anderson</td>\n",
       "      <td>1200</td>\n",
       "    </tr>\n",
       "    <tr>\n",
       "      <th>4</th>\n",
       "      <td>5</td>\n",
       "      <td>Ishita Rane</td>\n",
       "      <td>7800</td>\n",
       "    </tr>\n",
       "  </tbody>\n",
       "</table>\n",
       "</div>"
      ],
      "text/plain": [
       "   employeeID              Name  Salary\n",
       "0           1  Nimish Mothghare    1200\n",
       "1           2     Sanika Kamble    4300\n",
       "2           3     Damini Sharma    7600\n",
       "3           4   Pamela anderson    1200\n",
       "4           5       Ishita Rane    7800"
      ]
     },
     "execution_count": 103,
     "metadata": {},
     "output_type": "execute_result"
    }
   ],
   "source": [
    "employee"
   ]
  },
  {
   "cell_type": "code",
   "execution_count": 105,
   "id": "16d4c04a-c998-4f09-a1b6-1a17d0d08320",
   "metadata": {},
   "outputs": [],
   "source": [
    "employee[\"Department\"] = [\"HR\",\"Operation\",\"Mobile Department\",\"Digital Marketing\",\"Testing Department\"]"
   ]
  },
  {
   "cell_type": "code",
   "execution_count": 107,
   "id": "1f962a97-9a5c-48cb-88bc-2cefcb2bee65",
   "metadata": {},
   "outputs": [
    {
     "data": {
      "text/html": [
       "<div>\n",
       "<style scoped>\n",
       "    .dataframe tbody tr th:only-of-type {\n",
       "        vertical-align: middle;\n",
       "    }\n",
       "\n",
       "    .dataframe tbody tr th {\n",
       "        vertical-align: top;\n",
       "    }\n",
       "\n",
       "    .dataframe thead th {\n",
       "        text-align: right;\n",
       "    }\n",
       "</style>\n",
       "<table border=\"1\" class=\"dataframe\">\n",
       "  <thead>\n",
       "    <tr style=\"text-align: right;\">\n",
       "      <th></th>\n",
       "      <th>employeeID</th>\n",
       "      <th>Name</th>\n",
       "      <th>Salary</th>\n",
       "      <th>Department</th>\n",
       "    </tr>\n",
       "  </thead>\n",
       "  <tbody>\n",
       "    <tr>\n",
       "      <th>0</th>\n",
       "      <td>1</td>\n",
       "      <td>Nimish Mothghare</td>\n",
       "      <td>1200</td>\n",
       "      <td>HR</td>\n",
       "    </tr>\n",
       "    <tr>\n",
       "      <th>1</th>\n",
       "      <td>2</td>\n",
       "      <td>Sanika Kamble</td>\n",
       "      <td>4300</td>\n",
       "      <td>Operation</td>\n",
       "    </tr>\n",
       "    <tr>\n",
       "      <th>2</th>\n",
       "      <td>3</td>\n",
       "      <td>Damini Sharma</td>\n",
       "      <td>7600</td>\n",
       "      <td>Mobile Department</td>\n",
       "    </tr>\n",
       "    <tr>\n",
       "      <th>3</th>\n",
       "      <td>4</td>\n",
       "      <td>Pamela anderson</td>\n",
       "      <td>1200</td>\n",
       "      <td>Digital Marketing</td>\n",
       "    </tr>\n",
       "    <tr>\n",
       "      <th>4</th>\n",
       "      <td>5</td>\n",
       "      <td>Ishita Rane</td>\n",
       "      <td>7800</td>\n",
       "      <td>Testing Department</td>\n",
       "    </tr>\n",
       "  </tbody>\n",
       "</table>\n",
       "</div>"
      ],
      "text/plain": [
       "   employeeID              Name  Salary          Department\n",
       "0           1  Nimish Mothghare    1200                  HR\n",
       "1           2     Sanika Kamble    4300           Operation\n",
       "2           3     Damini Sharma    7600   Mobile Department\n",
       "3           4   Pamela anderson    1200   Digital Marketing\n",
       "4           5       Ishita Rane    7800  Testing Department"
      ]
     },
     "execution_count": 107,
     "metadata": {},
     "output_type": "execute_result"
    }
   ],
   "source": [
    "employee"
   ]
  },
  {
   "cell_type": "code",
   "execution_count": 109,
   "id": "5a21a627-2ef9-488d-a4a0-b6a6549d76d9",
   "metadata": {},
   "outputs": [],
   "source": [
    "new_employee = {\"employeeID\" : 6,\"Name\" : \"Fatima Shaikh\",\"Salary\": 7900,\"Department\": \"Sales\"}"
   ]
  },
  {
   "cell_type": "code",
   "execution_count": 115,
   "id": "f055dd6b-300b-4760-a60d-b108255ad972",
   "metadata": {},
   "outputs": [],
   "source": [
    "employee = pd.concat([employee, pd.DataFrame([new_employee])],ignore_index = True)"
   ]
  },
  {
   "cell_type": "code",
   "execution_count": 117,
   "id": "d2774ea4-1797-4eac-b04c-27dfa5fb56d3",
   "metadata": {},
   "outputs": [
    {
     "data": {
      "text/html": [
       "<div>\n",
       "<style scoped>\n",
       "    .dataframe tbody tr th:only-of-type {\n",
       "        vertical-align: middle;\n",
       "    }\n",
       "\n",
       "    .dataframe tbody tr th {\n",
       "        vertical-align: top;\n",
       "    }\n",
       "\n",
       "    .dataframe thead th {\n",
       "        text-align: right;\n",
       "    }\n",
       "</style>\n",
       "<table border=\"1\" class=\"dataframe\">\n",
       "  <thead>\n",
       "    <tr style=\"text-align: right;\">\n",
       "      <th></th>\n",
       "      <th>employeeID</th>\n",
       "      <th>Name</th>\n",
       "      <th>Salary</th>\n",
       "      <th>Department</th>\n",
       "    </tr>\n",
       "  </thead>\n",
       "  <tbody>\n",
       "    <tr>\n",
       "      <th>0</th>\n",
       "      <td>1</td>\n",
       "      <td>Nimish Mothghare</td>\n",
       "      <td>1200</td>\n",
       "      <td>HR</td>\n",
       "    </tr>\n",
       "    <tr>\n",
       "      <th>1</th>\n",
       "      <td>2</td>\n",
       "      <td>Sanika Kamble</td>\n",
       "      <td>4300</td>\n",
       "      <td>Operation</td>\n",
       "    </tr>\n",
       "    <tr>\n",
       "      <th>2</th>\n",
       "      <td>3</td>\n",
       "      <td>Damini Sharma</td>\n",
       "      <td>7600</td>\n",
       "      <td>Mobile Department</td>\n",
       "    </tr>\n",
       "    <tr>\n",
       "      <th>3</th>\n",
       "      <td>4</td>\n",
       "      <td>Pamela anderson</td>\n",
       "      <td>1200</td>\n",
       "      <td>Digital Marketing</td>\n",
       "    </tr>\n",
       "    <tr>\n",
       "      <th>4</th>\n",
       "      <td>5</td>\n",
       "      <td>Ishita Rane</td>\n",
       "      <td>7800</td>\n",
       "      <td>Testing Department</td>\n",
       "    </tr>\n",
       "    <tr>\n",
       "      <th>5</th>\n",
       "      <td>6</td>\n",
       "      <td>Fatima Shaikh</td>\n",
       "      <td>7900</td>\n",
       "      <td>Sales</td>\n",
       "    </tr>\n",
       "  </tbody>\n",
       "</table>\n",
       "</div>"
      ],
      "text/plain": [
       "   employeeID              Name  Salary          Department\n",
       "0           1  Nimish Mothghare    1200                  HR\n",
       "1           2     Sanika Kamble    4300           Operation\n",
       "2           3     Damini Sharma    7600   Mobile Department\n",
       "3           4   Pamela anderson    1200   Digital Marketing\n",
       "4           5       Ishita Rane    7800  Testing Department\n",
       "5           6     Fatima Shaikh    7900               Sales"
      ]
     },
     "execution_count": 117,
     "metadata": {},
     "output_type": "execute_result"
    }
   ],
   "source": [
    "employee"
   ]
  },
  {
   "cell_type": "code",
   "execution_count": 119,
   "id": "0caa5c98-fe8c-4a40-8a39-a0facf9281f9",
   "metadata": {},
   "outputs": [],
   "source": [
    "employee.to_csv(\"employee_data.csv\", index = False)"
   ]
  },
  {
   "cell_type": "code",
   "execution_count": 121,
   "id": "b9e5cc0d-e2b7-461b-b1ee-f167e111e8d6",
   "metadata": {},
   "outputs": [
    {
     "name": "stdout",
     "output_type": "stream",
     "text": [
      "CSV file saved successfully!\n"
     ]
    }
   ],
   "source": [
    "print(\"CSV file saved successfully!\")"
   ]
  },
  {
   "cell_type": "code",
   "execution_count": 125,
   "id": "c0564aeb-44d4-41ac-ac88-2f1ca274b93f",
   "metadata": {},
   "outputs": [],
   "source": [
    "player = pd.read_csv(\"teams.csv\")"
   ]
  },
  {
   "cell_type": "code",
   "execution_count": 127,
   "id": "e2e222a6-c1f2-4b49-9e21-00a58c8d3d2f",
   "metadata": {},
   "outputs": [
    {
     "data": {
      "text/html": [
       "<div>\n",
       "<style scoped>\n",
       "    .dataframe tbody tr th:only-of-type {\n",
       "        vertical-align: middle;\n",
       "    }\n",
       "\n",
       "    .dataframe tbody tr th {\n",
       "        vertical-align: top;\n",
       "    }\n",
       "\n",
       "    .dataframe thead th {\n",
       "        text-align: right;\n",
       "    }\n",
       "</style>\n",
       "<table border=\"1\" class=\"dataframe\">\n",
       "  <thead>\n",
       "    <tr style=\"text-align: right;\">\n",
       "      <th></th>\n",
       "      <th>id</th>\n",
       "      <th>name</th>\n",
       "      <th>code</th>\n",
       "      <th>image_path</th>\n",
       "      <th>country_id</th>\n",
       "      <th>national_team</th>\n",
       "      <th>updated_at</th>\n",
       "    </tr>\n",
       "  </thead>\n",
       "  <tbody>\n",
       "    <tr>\n",
       "      <th>0</th>\n",
       "      <td>1</td>\n",
       "      <td>Pakistan</td>\n",
       "      <td>PAK</td>\n",
       "      <td>https://cdn.sportmonks.com/images/cricket/team...</td>\n",
       "      <td>190324</td>\n",
       "      <td>True</td>\n",
       "      <td>2018-11-29T11:47:20.000000Z</td>\n",
       "    </tr>\n",
       "    <tr>\n",
       "      <th>1</th>\n",
       "      <td>10</td>\n",
       "      <td>India</td>\n",
       "      <td>IND</td>\n",
       "      <td>https://cdn.sportmonks.com/images/cricket/team...</td>\n",
       "      <td>190324</td>\n",
       "      <td>True</td>\n",
       "      <td>2018-11-29T11:47:20.000000Z</td>\n",
       "    </tr>\n",
       "    <tr>\n",
       "      <th>2</th>\n",
       "      <td>36</td>\n",
       "      <td>Australia</td>\n",
       "      <td>AUS</td>\n",
       "      <td>https://cdn.sportmonks.com/images/cricket/team...</td>\n",
       "      <td>190324</td>\n",
       "      <td>True</td>\n",
       "      <td>2018-11-29T11:47:20.000000Z</td>\n",
       "    </tr>\n",
       "    <tr>\n",
       "      <th>3</th>\n",
       "      <td>37</td>\n",
       "      <td>Bangladesh</td>\n",
       "      <td>BGD</td>\n",
       "      <td>https://cdn.sportmonks.com/images/cricket/team...</td>\n",
       "      <td>190324</td>\n",
       "      <td>True</td>\n",
       "      <td>2018-11-29T11:47:20.000000Z</td>\n",
       "    </tr>\n",
       "    <tr>\n",
       "      <th>4</th>\n",
       "      <td>38</td>\n",
       "      <td>England</td>\n",
       "      <td>ENG</td>\n",
       "      <td>https://cdn.sportmonks.com/images/cricket/team...</td>\n",
       "      <td>190324</td>\n",
       "      <td>True</td>\n",
       "      <td>2019-01-29T11:07:04.000000Z</td>\n",
       "    </tr>\n",
       "    <tr>\n",
       "      <th>...</th>\n",
       "      <td>...</td>\n",
       "      <td>...</td>\n",
       "      <td>...</td>\n",
       "      <td>...</td>\n",
       "      <td>...</td>\n",
       "      <td>...</td>\n",
       "      <td>...</td>\n",
       "    </tr>\n",
       "    <tr>\n",
       "      <th>73</th>\n",
       "      <td>2156</td>\n",
       "      <td>Croatia</td>\n",
       "      <td>HRV</td>\n",
       "      <td>https://cdn.sportmonks.com</td>\n",
       "      <td>190324</td>\n",
       "      <td>False</td>\n",
       "      <td>2022-07-24T12:50:38.000000Z</td>\n",
       "    </tr>\n",
       "    <tr>\n",
       "      <th>74</th>\n",
       "      <td>2183</td>\n",
       "      <td>Indonesia</td>\n",
       "      <td>ISN</td>\n",
       "      <td>https://cdn.sportmonks.com/images/cricket/team...</td>\n",
       "      <td>190324</td>\n",
       "      <td>False</td>\n",
       "      <td>2022-08-04T13:54:57.000000Z</td>\n",
       "    </tr>\n",
       "    <tr>\n",
       "      <th>75</th>\n",
       "      <td>2186</td>\n",
       "      <td>Japan</td>\n",
       "      <td>JPN</td>\n",
       "      <td>https://cdn.sportmonks.com/images/cricket/team...</td>\n",
       "      <td>190324</td>\n",
       "      <td>False</td>\n",
       "      <td>2022-08-04T13:55:57.000000Z</td>\n",
       "    </tr>\n",
       "    <tr>\n",
       "      <th>76</th>\n",
       "      <td>2252</td>\n",
       "      <td>Rwanda</td>\n",
       "      <td>RWA</td>\n",
       "      <td>https://cdn.sportmonks.com/images/cricket/team...</td>\n",
       "      <td>190324</td>\n",
       "      <td>False</td>\n",
       "      <td>2022-10-29T19:53:57.000000Z</td>\n",
       "    </tr>\n",
       "    <tr>\n",
       "      <th>77</th>\n",
       "      <td>2255</td>\n",
       "      <td>Tanzania</td>\n",
       "      <td>TZA</td>\n",
       "      <td>https://cdn.sportmonks.com/images/cricket/team...</td>\n",
       "      <td>190324</td>\n",
       "      <td>False</td>\n",
       "      <td>2022-10-29T19:55:07.000000Z</td>\n",
       "    </tr>\n",
       "  </tbody>\n",
       "</table>\n",
       "<p>78 rows × 7 columns</p>\n",
       "</div>"
      ],
      "text/plain": [
       "      id        name code                                         image_path  \\\n",
       "0      1    Pakistan  PAK  https://cdn.sportmonks.com/images/cricket/team...   \n",
       "1     10       India  IND  https://cdn.sportmonks.com/images/cricket/team...   \n",
       "2     36   Australia  AUS  https://cdn.sportmonks.com/images/cricket/team...   \n",
       "3     37  Bangladesh  BGD  https://cdn.sportmonks.com/images/cricket/team...   \n",
       "4     38     England  ENG  https://cdn.sportmonks.com/images/cricket/team...   \n",
       "..   ...         ...  ...                                                ...   \n",
       "73  2156     Croatia  HRV                         https://cdn.sportmonks.com   \n",
       "74  2183   Indonesia  ISN  https://cdn.sportmonks.com/images/cricket/team...   \n",
       "75  2186       Japan  JPN  https://cdn.sportmonks.com/images/cricket/team...   \n",
       "76  2252      Rwanda  RWA  https://cdn.sportmonks.com/images/cricket/team...   \n",
       "77  2255    Tanzania  TZA  https://cdn.sportmonks.com/images/cricket/team...   \n",
       "\n",
       "    country_id  national_team                   updated_at  \n",
       "0       190324           True  2018-11-29T11:47:20.000000Z  \n",
       "1       190324           True  2018-11-29T11:47:20.000000Z  \n",
       "2       190324           True  2018-11-29T11:47:20.000000Z  \n",
       "3       190324           True  2018-11-29T11:47:20.000000Z  \n",
       "4       190324           True  2019-01-29T11:07:04.000000Z  \n",
       "..         ...            ...                          ...  \n",
       "73      190324          False  2022-07-24T12:50:38.000000Z  \n",
       "74      190324          False  2022-08-04T13:54:57.000000Z  \n",
       "75      190324          False  2022-08-04T13:55:57.000000Z  \n",
       "76      190324          False  2022-10-29T19:53:57.000000Z  \n",
       "77      190324          False  2022-10-29T19:55:07.000000Z  \n",
       "\n",
       "[78 rows x 7 columns]"
      ]
     },
     "execution_count": 127,
     "metadata": {},
     "output_type": "execute_result"
    }
   ],
   "source": [
    "player"
   ]
  },
  {
   "cell_type": "code",
   "execution_count": 129,
   "id": "de2e7482-869f-41d9-b16d-5cd18b8f957b",
   "metadata": {},
   "outputs": [
    {
     "name": "stdout",
     "output_type": "stream",
     "text": [
      "      id                      name code                                                   image_path  country_id  national_team                   updated_at\n",
      "0      1                  Pakistan  PAK      https://cdn.sportmonks.com/images/cricket/teams/1/1.png      190324           True  2018-11-29T11:47:20.000000Z\n",
      "1     10                     India  IND    https://cdn.sportmonks.com/images/cricket/teams/10/10.png      190324           True  2018-11-29T11:47:20.000000Z\n",
      "2     36                 Australia  AUS     https://cdn.sportmonks.com/images/cricket/teams/4/36.png      190324           True  2018-11-29T11:47:20.000000Z\n",
      "3     37                Bangladesh  BGD     https://cdn.sportmonks.com/images/cricket/teams/5/37.png      190324           True  2018-11-29T11:47:20.000000Z\n",
      "4     38                   England  ENG     https://cdn.sportmonks.com/images/cricket/teams/6/38.png      190324           True  2019-01-29T11:07:04.000000Z\n",
      "5     39                 Sri Lanka  LKA     https://cdn.sportmonks.com/images/cricket/teams/7/39.png      190324           True  2019-08-31T12:20:09.000000Z\n",
      "6     40              South Africa  ZAF     https://cdn.sportmonks.com/images/cricket/teams/8/40.png      190324           True  2019-08-31T12:31:16.000000Z\n",
      "7     41                  Zimbabwe  ZIM     https://cdn.sportmonks.com/images/cricket/teams/9/41.png      190324           True  2019-06-17T14:45:03.000000Z\n",
      "8     42               New Zealand  NZL    https://cdn.sportmonks.com/images/cricket/teams/10/42.png      190324           True  2019-08-31T12:32:06.000000Z\n",
      "9     43               West Indies   WI    https://cdn.sportmonks.com/images/cricket/teams/11/43.png      190324           True  2018-11-29T11:47:20.000000Z\n",
      "10    44                  Scotland  SCO    https://cdn.sportmonks.com/images/cricket/teams/12/44.png      190324           True  2019-02-13T16:25:03.000000Z\n",
      "11    45      United Arab Emirates  UAE    https://cdn.sportmonks.com/images/cricket/teams/13/45.png      190324           True  2019-10-28T18:35:02.000000Z\n",
      "12    46               Afghanistan  AFG    https://cdn.sportmonks.com/images/cricket/teams/14/46.png      190324           True  2019-02-19T06:30:02.000000Z\n",
      "13    47         Adelaide Strikers   AS    https://cdn.sportmonks.com/images/cricket/teams/15/47.png          98          False  2019-12-19T12:26:02.000000Z\n",
      "14    48             Brisbane Heat   BH    https://cdn.sportmonks.com/images/cricket/teams/16/48.png          98          False  2019-12-09T06:45:02.000000Z\n",
      "15    49         Hobart Hurricanes   HH    https://cdn.sportmonks.com/images/cricket/teams/17/49.png          98          False  2018-11-29T11:47:20.000000Z\n",
      "16    50       Melbourne Renegades   MR    https://cdn.sportmonks.com/images/cricket/teams/18/50.png          98          False  2018-11-29T11:47:20.000000Z\n",
      "17    51           Melbourne Stars  MLS    https://cdn.sportmonks.com/images/cricket/teams/19/51.png          98          False  2022-12-13T10:41:00.000000Z\n",
      "18    52           Perth Scorchers   PS    https://cdn.sportmonks.com/images/cricket/teams/20/52.png          98          False  2018-11-29T11:47:20.000000Z\n",
      "19    53             Sydney Sixers   SS    https://cdn.sportmonks.com/images/cricket/teams/21/53.png          98          False  2018-11-29T11:47:20.000000Z\n",
      "20    54            Sydney Thunder  SYT    https://cdn.sportmonks.com/images/cricket/teams/22/54.png          98          False  2022-12-13T10:41:07.000000Z\n",
      "21    60                    Titans   MT    https://cdn.sportmonks.com/images/cricket/teams/28/60.png         146          False  2019-02-28T11:27:04.000000Z\n",
      "22    61                  Dolphins   HD    https://cdn.sportmonks.com/images/cricket/teams/29/61.png         146          False  2018-11-13T20:31:04.000000Z\n",
      "23    62               Cape Cobras   CC    https://cdn.sportmonks.com/images/cricket/teams/30/62.png         146          False  2018-11-13T20:31:09.000000Z\n",
      "24    63                  Warriors  WAR    https://cdn.sportmonks.com/images/cricket/teams/31/63.png         146          False  2019-02-21T10:39:04.000000Z\n",
      "25    64                     Lions   HL     https://cdn.sportmonks.com/images/cricket/teams/0/64.png         146          False  2018-11-13T20:31:21.000000Z\n",
      "26    65                   Knights  KTS     https://cdn.sportmonks.com/images/cricket/teams/1/65.png         146          False  2021-02-15T12:39:42.000000Z\n",
      "27   100                   Ireland  IRE    https://cdn.sportmonks.com/images/cricket/teams/4/100.png      190324           True  2019-02-08T11:22:03.000000Z\n",
      "28   115                 Hong Kong   HK   https://cdn.sportmonks.com/images/cricket/teams/19/115.png       64306           True  2019-10-30T06:40:02.000000Z\n",
      "29   140                    Canada  CAN   https://cdn.sportmonks.com/images/cricket/teams/12/140.png      190324           True  2019-11-05T09:22:02.000000Z\n",
      "30   143                     Kenya  KEN   https://cdn.sportmonks.com/images/cricket/teams/15/143.png      190324           True  2018-11-13T21:14:56.000000Z\n",
      "31   146               Netherlands  NLD   https://cdn.sportmonks.com/images/cricket/teams/18/146.png      190324           True  2019-02-13T16:25:02.000000Z\n",
      "32   152                     Nepal  NPL   https://cdn.sportmonks.com/images/cricket/teams/24/152.png      190324           True  2020-02-08T15:54:07.000000Z\n",
      "33   155                      Oman  OMN   https://cdn.sportmonks.com/images/cricket/teams/27/155.png      190324           True  2019-02-08T11:22:03.000000Z\n",
      "34   272                       USA  USA   https://cdn.sportmonks.com/images/cricket/teams/16/272.png    14566636          False  2019-01-26T11:48:13.000000Z\n",
      "35   293                   Namibia  NAM    https://cdn.sportmonks.com/images/cricket/teams/5/293.png      190324          False  2019-10-28T08:40:04.000000Z\n",
      "36   296          Papua New Guinea  PNG    https://cdn.sportmonks.com/images/cricket/teams/8/296.png      190324          False  2019-10-30T06:43:02.000000Z\n",
      "37   302                   Estonia  EST   https://cdn.sportmonks.com/images/cricket/teams/14/302.png      190324          False  2021-10-04T14:12:14.000000Z\n",
      "38   305                     Spain  ESP   https://cdn.sportmonks.com/images/cricket/teams/17/305.png      190324          False  2019-03-16T11:32:10.000000Z\n",
      "39   308                     Malta  MLT   https://cdn.sportmonks.com/images/cricket/teams/20/308.png      190324          False  2019-03-16T11:31:33.000000Z\n",
      "40   326                   Germany  DEU    https://cdn.sportmonks.com/images/cricket/teams/6/326.png      190324           True  2021-06-21T13:12:45.000000Z\n",
      "41   329                     Italy  ITA    https://cdn.sportmonks.com/images/cricket/teams/9/329.png         251           True  2019-04-03T11:09:15.000000Z\n",
      "42   370                   Belgium  BEL   https://cdn.sportmonks.com/images/cricket/teams/18/370.png      190324          False  2019-05-08T19:57:46.000000Z\n",
      "43   396                    Jersey  JEY   https://cdn.sportmonks.com/images/cricket/teams/12/396.png      190324          False  2019-05-27T19:16:17.000000Z\n",
      "44   399                  Guernsey  GGY   https://cdn.sportmonks.com/images/cricket/teams/15/399.png      190324          False  2019-05-27T19:17:12.000000Z\n",
      "45   402                  Malaysia  MYS   https://cdn.sportmonks.com/images/cricket/teams/18/402.png      190324           True  2020-02-20T11:23:02.000000Z\n",
      "46   414                   Denmark  DNK   https://cdn.sportmonks.com/images/cricket/teams/30/414.png         320          False  2019-07-04T22:27:12.000000Z\n",
      "47   417                   Finland  FIN    https://cdn.sportmonks.com/images/cricket/teams/1/417.png        1233          False  2019-07-04T22:26:47.000000Z\n",
      "48   420                    Kuwait  KWT    https://cdn.sportmonks.com/images/cricket/teams/4/420.png       21462           True  2019-07-05T21:58:31.000000Z\n",
      "49   423                     Qatar  QAT    https://cdn.sportmonks.com/images/cricket/teams/7/423.png       74505           True  2020-02-12T09:44:02.000000Z\n",
      "50   429                 Singapore  SIN   https://cdn.sportmonks.com/images/cricket/teams/13/429.png       99474          False  2019-09-24T19:55:02.000000Z\n",
      "51   456                  Botswana  BWA    https://cdn.sportmonks.com/images/cricket/teams/8/456.png      190324          False  2019-08-19T11:18:56.000000Z\n",
      "52   483  United States of America  USA    https://cdn.sportmonks.com/images/cricket/teams/3/483.png      190324           True  2019-08-28T14:40:17.000000Z\n",
      "53   486                   Romania  ROU    https://cdn.sportmonks.com/images/cricket/teams/6/486.png      190324          False  2019-08-27T18:22:34.000000Z\n",
      "54   489                   Austria  AUT    https://cdn.sportmonks.com/images/cricket/teams/9/489.png      190324           True  2019-08-27T18:24:00.000000Z\n",
      "55   492            Czech Republic  CZE   https://cdn.sportmonks.com/images/cricket/teams/12/492.png      190324           True  2019-08-27T18:24:53.000000Z\n",
      "56   495                Luxembourg  LUX   https://cdn.sportmonks.com/images/cricket/teams/15/495.png      190324           True  2019-08-27T18:26:28.000000Z\n",
      "57   498                    Turkey  TUR   https://cdn.sportmonks.com/images/cricket/teams/18/498.png      190324           True  2019-08-27T18:27:20.000000Z\n",
      "58   501                    Russia  RUS   https://cdn.sportmonks.com/images/cricket/teams/21/501.png      190324           True  2019-08-27T18:31:20.000000Z\n",
      "59   552                   Vanuatu  VUT    https://cdn.sportmonks.com/images/cricket/teams/8/552.png      190324           True  2019-09-27T16:54:33.000000Z\n",
      "60   561                 Gibraltar  GIB   https://cdn.sportmonks.com/images/cricket/teams/17/561.png      190324           True  2019-10-04T18:26:51.000000Z\n",
      "61   678                    Uganda  UGA    https://cdn.sportmonks.com/images/cricket/teams/6/678.png        4125          False  2020-02-12T09:44:02.000000Z\n",
      "62  1065               Isle of Man  IMN   https://cdn.sportmonks.com/images/cricket/teams/9/1065.png       99474          False  2020-08-11T09:46:20.000000Z\n",
      "63  1311                  Bulgaria  BGR  https://cdn.sportmonks.com/images/cricket/teams/31/1311.png      190324          False  2021-06-21T13:13:10.000000Z\n",
      "64  1829                    Serbia  SEB   https://cdn.sportmonks.com/images/cricket/teams/5/1829.png      190324          False  2021-06-21T13:16:31.000000Z\n",
      "65  1850                    Sweden  SWE  https://cdn.sportmonks.com/images/cricket/teams/26/1850.png       99474          False  2022-06-07T16:13:55.000000Z\n",
      "66  1856                   Hungary  HUN   https://cdn.sportmonks.com/images/cricket/teams/0/1856.png          41          False  2021-07-01T20:11:07.000000Z\n",
      "67  1880                    France  FRA  https://cdn.sportmonks.com/images/cricket/teams/24/1880.png      190324          False  2022-09-26T03:36:00.000000Z\n",
      "68  1958               Switzerland  CHE   https://cdn.sportmonks.com/images/cricket/teams/6/1958.png      190324          False  2021-10-09T21:52:27.000000Z\n",
      "69  2057                   Bahrain  BHR   https://cdn.sportmonks.com/images/cricket/teams/9/2057.png      190324          False  2022-01-29T11:56:14.000000Z\n",
      "70  2060          Western Province   WP  https://cdn.sportmonks.com/images/cricket/teams/12/2060.png         146          False  2022-02-02T09:43:17.000000Z\n",
      "71  2063                     Rocks  ROC  https://cdn.sportmonks.com/images/cricket/teams/15/2063.png         146          False  2022-02-05T19:30:00.000000Z\n",
      "72  2066        North West Dragons  NWD  https://cdn.sportmonks.com/images/cricket/teams/18/2066.png         146          False  2022-10-12T19:41:50.000000Z\n",
      "73  2156                   Croatia  HRV                                   https://cdn.sportmonks.com      190324          False  2022-07-24T12:50:38.000000Z\n",
      "74  2183                 Indonesia  ISN   https://cdn.sportmonks.com/images/cricket/teams/7/2183.png      190324          False  2022-08-04T13:54:57.000000Z\n",
      "75  2186                     Japan  JPN  https://cdn.sportmonks.com/images/cricket/teams/10/2186.png      190324          False  2022-08-04T13:55:57.000000Z\n",
      "76  2252                    Rwanda  RWA  https://cdn.sportmonks.com/images/cricket/teams/12/2252.png      190324          False  2022-10-29T19:53:57.000000Z\n",
      "77  2255                  Tanzania  TZA  https://cdn.sportmonks.com/images/cricket/teams/15/2255.png      190324          False  2022-10-29T19:55:07.000000Z\n"
     ]
    }
   ],
   "source": [
    "print(player.to_string())"
   ]
  },
  {
   "cell_type": "code",
   "execution_count": 131,
   "id": "8088c5bd-0c27-408c-bb54-5b68d1f7879e",
   "metadata": {},
   "outputs": [],
   "source": [
    "player.loc[0,\"name\"] = \"Ghana\""
   ]
  },
  {
   "cell_type": "code",
   "execution_count": 133,
   "id": "a9567ab8-1341-4573-bb62-81cdbd209154",
   "metadata": {},
   "outputs": [],
   "source": [
    "player.to_csv(\"teams.csv\", index=False)"
   ]
  },
  {
   "cell_type": "code",
   "execution_count": 135,
   "id": "e77d7c7a-f052-46e2-b732-ca331fd9cd29",
   "metadata": {},
   "outputs": [
    {
     "name": "stdout",
     "output_type": "stream",
     "text": [
      "      id                      name code                                                   image_path  country_id  national_team                   updated_at\n",
      "0      1                     Ghana  PAK      https://cdn.sportmonks.com/images/cricket/teams/1/1.png      190324           True  2018-11-29T11:47:20.000000Z\n",
      "1     10                     India  IND    https://cdn.sportmonks.com/images/cricket/teams/10/10.png      190324           True  2018-11-29T11:47:20.000000Z\n",
      "2     36                 Australia  AUS     https://cdn.sportmonks.com/images/cricket/teams/4/36.png      190324           True  2018-11-29T11:47:20.000000Z\n",
      "3     37                Bangladesh  BGD     https://cdn.sportmonks.com/images/cricket/teams/5/37.png      190324           True  2018-11-29T11:47:20.000000Z\n",
      "4     38                   England  ENG     https://cdn.sportmonks.com/images/cricket/teams/6/38.png      190324           True  2019-01-29T11:07:04.000000Z\n",
      "5     39                 Sri Lanka  LKA     https://cdn.sportmonks.com/images/cricket/teams/7/39.png      190324           True  2019-08-31T12:20:09.000000Z\n",
      "6     40              South Africa  ZAF     https://cdn.sportmonks.com/images/cricket/teams/8/40.png      190324           True  2019-08-31T12:31:16.000000Z\n",
      "7     41                  Zimbabwe  ZIM     https://cdn.sportmonks.com/images/cricket/teams/9/41.png      190324           True  2019-06-17T14:45:03.000000Z\n",
      "8     42               New Zealand  NZL    https://cdn.sportmonks.com/images/cricket/teams/10/42.png      190324           True  2019-08-31T12:32:06.000000Z\n",
      "9     43               West Indies   WI    https://cdn.sportmonks.com/images/cricket/teams/11/43.png      190324           True  2018-11-29T11:47:20.000000Z\n",
      "10    44                  Scotland  SCO    https://cdn.sportmonks.com/images/cricket/teams/12/44.png      190324           True  2019-02-13T16:25:03.000000Z\n",
      "11    45      United Arab Emirates  UAE    https://cdn.sportmonks.com/images/cricket/teams/13/45.png      190324           True  2019-10-28T18:35:02.000000Z\n",
      "12    46               Afghanistan  AFG    https://cdn.sportmonks.com/images/cricket/teams/14/46.png      190324           True  2019-02-19T06:30:02.000000Z\n",
      "13    47         Adelaide Strikers   AS    https://cdn.sportmonks.com/images/cricket/teams/15/47.png          98          False  2019-12-19T12:26:02.000000Z\n",
      "14    48             Brisbane Heat   BH    https://cdn.sportmonks.com/images/cricket/teams/16/48.png          98          False  2019-12-09T06:45:02.000000Z\n",
      "15    49         Hobart Hurricanes   HH    https://cdn.sportmonks.com/images/cricket/teams/17/49.png          98          False  2018-11-29T11:47:20.000000Z\n",
      "16    50       Melbourne Renegades   MR    https://cdn.sportmonks.com/images/cricket/teams/18/50.png          98          False  2018-11-29T11:47:20.000000Z\n",
      "17    51           Melbourne Stars  MLS    https://cdn.sportmonks.com/images/cricket/teams/19/51.png          98          False  2022-12-13T10:41:00.000000Z\n",
      "18    52           Perth Scorchers   PS    https://cdn.sportmonks.com/images/cricket/teams/20/52.png          98          False  2018-11-29T11:47:20.000000Z\n",
      "19    53             Sydney Sixers   SS    https://cdn.sportmonks.com/images/cricket/teams/21/53.png          98          False  2018-11-29T11:47:20.000000Z\n",
      "20    54            Sydney Thunder  SYT    https://cdn.sportmonks.com/images/cricket/teams/22/54.png          98          False  2022-12-13T10:41:07.000000Z\n",
      "21    60                    Titans   MT    https://cdn.sportmonks.com/images/cricket/teams/28/60.png         146          False  2019-02-28T11:27:04.000000Z\n",
      "22    61                  Dolphins   HD    https://cdn.sportmonks.com/images/cricket/teams/29/61.png         146          False  2018-11-13T20:31:04.000000Z\n",
      "23    62               Cape Cobras   CC    https://cdn.sportmonks.com/images/cricket/teams/30/62.png         146          False  2018-11-13T20:31:09.000000Z\n",
      "24    63                  Warriors  WAR    https://cdn.sportmonks.com/images/cricket/teams/31/63.png         146          False  2019-02-21T10:39:04.000000Z\n",
      "25    64                     Lions   HL     https://cdn.sportmonks.com/images/cricket/teams/0/64.png         146          False  2018-11-13T20:31:21.000000Z\n",
      "26    65                   Knights  KTS     https://cdn.sportmonks.com/images/cricket/teams/1/65.png         146          False  2021-02-15T12:39:42.000000Z\n",
      "27   100                   Ireland  IRE    https://cdn.sportmonks.com/images/cricket/teams/4/100.png      190324           True  2019-02-08T11:22:03.000000Z\n",
      "28   115                 Hong Kong   HK   https://cdn.sportmonks.com/images/cricket/teams/19/115.png       64306           True  2019-10-30T06:40:02.000000Z\n",
      "29   140                    Canada  CAN   https://cdn.sportmonks.com/images/cricket/teams/12/140.png      190324           True  2019-11-05T09:22:02.000000Z\n",
      "30   143                     Kenya  KEN   https://cdn.sportmonks.com/images/cricket/teams/15/143.png      190324           True  2018-11-13T21:14:56.000000Z\n",
      "31   146               Netherlands  NLD   https://cdn.sportmonks.com/images/cricket/teams/18/146.png      190324           True  2019-02-13T16:25:02.000000Z\n",
      "32   152                     Nepal  NPL   https://cdn.sportmonks.com/images/cricket/teams/24/152.png      190324           True  2020-02-08T15:54:07.000000Z\n",
      "33   155                      Oman  OMN   https://cdn.sportmonks.com/images/cricket/teams/27/155.png      190324           True  2019-02-08T11:22:03.000000Z\n",
      "34   272                       USA  USA   https://cdn.sportmonks.com/images/cricket/teams/16/272.png    14566636          False  2019-01-26T11:48:13.000000Z\n",
      "35   293                   Namibia  NAM    https://cdn.sportmonks.com/images/cricket/teams/5/293.png      190324          False  2019-10-28T08:40:04.000000Z\n",
      "36   296          Papua New Guinea  PNG    https://cdn.sportmonks.com/images/cricket/teams/8/296.png      190324          False  2019-10-30T06:43:02.000000Z\n",
      "37   302                   Estonia  EST   https://cdn.sportmonks.com/images/cricket/teams/14/302.png      190324          False  2021-10-04T14:12:14.000000Z\n",
      "38   305                     Spain  ESP   https://cdn.sportmonks.com/images/cricket/teams/17/305.png      190324          False  2019-03-16T11:32:10.000000Z\n",
      "39   308                     Malta  MLT   https://cdn.sportmonks.com/images/cricket/teams/20/308.png      190324          False  2019-03-16T11:31:33.000000Z\n",
      "40   326                   Germany  DEU    https://cdn.sportmonks.com/images/cricket/teams/6/326.png      190324           True  2021-06-21T13:12:45.000000Z\n",
      "41   329                     Italy  ITA    https://cdn.sportmonks.com/images/cricket/teams/9/329.png         251           True  2019-04-03T11:09:15.000000Z\n",
      "42   370                   Belgium  BEL   https://cdn.sportmonks.com/images/cricket/teams/18/370.png      190324          False  2019-05-08T19:57:46.000000Z\n",
      "43   396                    Jersey  JEY   https://cdn.sportmonks.com/images/cricket/teams/12/396.png      190324          False  2019-05-27T19:16:17.000000Z\n",
      "44   399                  Guernsey  GGY   https://cdn.sportmonks.com/images/cricket/teams/15/399.png      190324          False  2019-05-27T19:17:12.000000Z\n",
      "45   402                  Malaysia  MYS   https://cdn.sportmonks.com/images/cricket/teams/18/402.png      190324           True  2020-02-20T11:23:02.000000Z\n",
      "46   414                   Denmark  DNK   https://cdn.sportmonks.com/images/cricket/teams/30/414.png         320          False  2019-07-04T22:27:12.000000Z\n",
      "47   417                   Finland  FIN    https://cdn.sportmonks.com/images/cricket/teams/1/417.png        1233          False  2019-07-04T22:26:47.000000Z\n",
      "48   420                    Kuwait  KWT    https://cdn.sportmonks.com/images/cricket/teams/4/420.png       21462           True  2019-07-05T21:58:31.000000Z\n",
      "49   423                     Qatar  QAT    https://cdn.sportmonks.com/images/cricket/teams/7/423.png       74505           True  2020-02-12T09:44:02.000000Z\n",
      "50   429                 Singapore  SIN   https://cdn.sportmonks.com/images/cricket/teams/13/429.png       99474          False  2019-09-24T19:55:02.000000Z\n",
      "51   456                  Botswana  BWA    https://cdn.sportmonks.com/images/cricket/teams/8/456.png      190324          False  2019-08-19T11:18:56.000000Z\n",
      "52   483  United States of America  USA    https://cdn.sportmonks.com/images/cricket/teams/3/483.png      190324           True  2019-08-28T14:40:17.000000Z\n",
      "53   486                   Romania  ROU    https://cdn.sportmonks.com/images/cricket/teams/6/486.png      190324          False  2019-08-27T18:22:34.000000Z\n",
      "54   489                   Austria  AUT    https://cdn.sportmonks.com/images/cricket/teams/9/489.png      190324           True  2019-08-27T18:24:00.000000Z\n",
      "55   492            Czech Republic  CZE   https://cdn.sportmonks.com/images/cricket/teams/12/492.png      190324           True  2019-08-27T18:24:53.000000Z\n",
      "56   495                Luxembourg  LUX   https://cdn.sportmonks.com/images/cricket/teams/15/495.png      190324           True  2019-08-27T18:26:28.000000Z\n",
      "57   498                    Turkey  TUR   https://cdn.sportmonks.com/images/cricket/teams/18/498.png      190324           True  2019-08-27T18:27:20.000000Z\n",
      "58   501                    Russia  RUS   https://cdn.sportmonks.com/images/cricket/teams/21/501.png      190324           True  2019-08-27T18:31:20.000000Z\n",
      "59   552                   Vanuatu  VUT    https://cdn.sportmonks.com/images/cricket/teams/8/552.png      190324           True  2019-09-27T16:54:33.000000Z\n",
      "60   561                 Gibraltar  GIB   https://cdn.sportmonks.com/images/cricket/teams/17/561.png      190324           True  2019-10-04T18:26:51.000000Z\n",
      "61   678                    Uganda  UGA    https://cdn.sportmonks.com/images/cricket/teams/6/678.png        4125          False  2020-02-12T09:44:02.000000Z\n",
      "62  1065               Isle of Man  IMN   https://cdn.sportmonks.com/images/cricket/teams/9/1065.png       99474          False  2020-08-11T09:46:20.000000Z\n",
      "63  1311                  Bulgaria  BGR  https://cdn.sportmonks.com/images/cricket/teams/31/1311.png      190324          False  2021-06-21T13:13:10.000000Z\n",
      "64  1829                    Serbia  SEB   https://cdn.sportmonks.com/images/cricket/teams/5/1829.png      190324          False  2021-06-21T13:16:31.000000Z\n",
      "65  1850                    Sweden  SWE  https://cdn.sportmonks.com/images/cricket/teams/26/1850.png       99474          False  2022-06-07T16:13:55.000000Z\n",
      "66  1856                   Hungary  HUN   https://cdn.sportmonks.com/images/cricket/teams/0/1856.png          41          False  2021-07-01T20:11:07.000000Z\n",
      "67  1880                    France  FRA  https://cdn.sportmonks.com/images/cricket/teams/24/1880.png      190324          False  2022-09-26T03:36:00.000000Z\n",
      "68  1958               Switzerland  CHE   https://cdn.sportmonks.com/images/cricket/teams/6/1958.png      190324          False  2021-10-09T21:52:27.000000Z\n",
      "69  2057                   Bahrain  BHR   https://cdn.sportmonks.com/images/cricket/teams/9/2057.png      190324          False  2022-01-29T11:56:14.000000Z\n",
      "70  2060          Western Province   WP  https://cdn.sportmonks.com/images/cricket/teams/12/2060.png         146          False  2022-02-02T09:43:17.000000Z\n",
      "71  2063                     Rocks  ROC  https://cdn.sportmonks.com/images/cricket/teams/15/2063.png         146          False  2022-02-05T19:30:00.000000Z\n",
      "72  2066        North West Dragons  NWD  https://cdn.sportmonks.com/images/cricket/teams/18/2066.png         146          False  2022-10-12T19:41:50.000000Z\n",
      "73  2156                   Croatia  HRV                                   https://cdn.sportmonks.com      190324          False  2022-07-24T12:50:38.000000Z\n",
      "74  2183                 Indonesia  ISN   https://cdn.sportmonks.com/images/cricket/teams/7/2183.png      190324          False  2022-08-04T13:54:57.000000Z\n",
      "75  2186                     Japan  JPN  https://cdn.sportmonks.com/images/cricket/teams/10/2186.png      190324          False  2022-08-04T13:55:57.000000Z\n",
      "76  2252                    Rwanda  RWA  https://cdn.sportmonks.com/images/cricket/teams/12/2252.png      190324          False  2022-10-29T19:53:57.000000Z\n",
      "77  2255                  Tanzania  TZA  https://cdn.sportmonks.com/images/cricket/teams/15/2255.png      190324          False  2022-10-29T19:55:07.000000Z\n"
     ]
    }
   ],
   "source": [
    "print(player.to_string())"
   ]
  },
  {
   "cell_type": "code",
   "execution_count": 137,
   "id": "6622ff0d-08db-46b0-ae9e-2727ec35340e",
   "metadata": {},
   "outputs": [],
   "source": [
    "player.loc[0,\"code\"] = \"GHANA\""
   ]
  },
  {
   "cell_type": "code",
   "execution_count": 139,
   "id": "310c215b-72bf-45d7-9278-8589c16a4bf1",
   "metadata": {},
   "outputs": [],
   "source": [
    "player.to_csv(\"teams.csv\", index=False)"
   ]
  },
  {
   "cell_type": "code",
   "execution_count": 141,
   "id": "d323c97e-13c3-4c97-baa9-e203473ef7eb",
   "metadata": {},
   "outputs": [
    {
     "name": "stdout",
     "output_type": "stream",
     "text": [
      "      id                      name   code                                                   image_path  country_id  national_team                   updated_at\n",
      "0      1                     Ghana  GHANA      https://cdn.sportmonks.com/images/cricket/teams/1/1.png      190324           True  2018-11-29T11:47:20.000000Z\n",
      "1     10                     India    IND    https://cdn.sportmonks.com/images/cricket/teams/10/10.png      190324           True  2018-11-29T11:47:20.000000Z\n",
      "2     36                 Australia    AUS     https://cdn.sportmonks.com/images/cricket/teams/4/36.png      190324           True  2018-11-29T11:47:20.000000Z\n",
      "3     37                Bangladesh    BGD     https://cdn.sportmonks.com/images/cricket/teams/5/37.png      190324           True  2018-11-29T11:47:20.000000Z\n",
      "4     38                   England    ENG     https://cdn.sportmonks.com/images/cricket/teams/6/38.png      190324           True  2019-01-29T11:07:04.000000Z\n",
      "5     39                 Sri Lanka    LKA     https://cdn.sportmonks.com/images/cricket/teams/7/39.png      190324           True  2019-08-31T12:20:09.000000Z\n",
      "6     40              South Africa    ZAF     https://cdn.sportmonks.com/images/cricket/teams/8/40.png      190324           True  2019-08-31T12:31:16.000000Z\n",
      "7     41                  Zimbabwe    ZIM     https://cdn.sportmonks.com/images/cricket/teams/9/41.png      190324           True  2019-06-17T14:45:03.000000Z\n",
      "8     42               New Zealand    NZL    https://cdn.sportmonks.com/images/cricket/teams/10/42.png      190324           True  2019-08-31T12:32:06.000000Z\n",
      "9     43               West Indies     WI    https://cdn.sportmonks.com/images/cricket/teams/11/43.png      190324           True  2018-11-29T11:47:20.000000Z\n",
      "10    44                  Scotland    SCO    https://cdn.sportmonks.com/images/cricket/teams/12/44.png      190324           True  2019-02-13T16:25:03.000000Z\n",
      "11    45      United Arab Emirates    UAE    https://cdn.sportmonks.com/images/cricket/teams/13/45.png      190324           True  2019-10-28T18:35:02.000000Z\n",
      "12    46               Afghanistan    AFG    https://cdn.sportmonks.com/images/cricket/teams/14/46.png      190324           True  2019-02-19T06:30:02.000000Z\n",
      "13    47         Adelaide Strikers     AS    https://cdn.sportmonks.com/images/cricket/teams/15/47.png          98          False  2019-12-19T12:26:02.000000Z\n",
      "14    48             Brisbane Heat     BH    https://cdn.sportmonks.com/images/cricket/teams/16/48.png          98          False  2019-12-09T06:45:02.000000Z\n",
      "15    49         Hobart Hurricanes     HH    https://cdn.sportmonks.com/images/cricket/teams/17/49.png          98          False  2018-11-29T11:47:20.000000Z\n",
      "16    50       Melbourne Renegades     MR    https://cdn.sportmonks.com/images/cricket/teams/18/50.png          98          False  2018-11-29T11:47:20.000000Z\n",
      "17    51           Melbourne Stars    MLS    https://cdn.sportmonks.com/images/cricket/teams/19/51.png          98          False  2022-12-13T10:41:00.000000Z\n",
      "18    52           Perth Scorchers     PS    https://cdn.sportmonks.com/images/cricket/teams/20/52.png          98          False  2018-11-29T11:47:20.000000Z\n",
      "19    53             Sydney Sixers     SS    https://cdn.sportmonks.com/images/cricket/teams/21/53.png          98          False  2018-11-29T11:47:20.000000Z\n",
      "20    54            Sydney Thunder    SYT    https://cdn.sportmonks.com/images/cricket/teams/22/54.png          98          False  2022-12-13T10:41:07.000000Z\n",
      "21    60                    Titans     MT    https://cdn.sportmonks.com/images/cricket/teams/28/60.png         146          False  2019-02-28T11:27:04.000000Z\n",
      "22    61                  Dolphins     HD    https://cdn.sportmonks.com/images/cricket/teams/29/61.png         146          False  2018-11-13T20:31:04.000000Z\n",
      "23    62               Cape Cobras     CC    https://cdn.sportmonks.com/images/cricket/teams/30/62.png         146          False  2018-11-13T20:31:09.000000Z\n",
      "24    63                  Warriors    WAR    https://cdn.sportmonks.com/images/cricket/teams/31/63.png         146          False  2019-02-21T10:39:04.000000Z\n",
      "25    64                     Lions     HL     https://cdn.sportmonks.com/images/cricket/teams/0/64.png         146          False  2018-11-13T20:31:21.000000Z\n",
      "26    65                   Knights    KTS     https://cdn.sportmonks.com/images/cricket/teams/1/65.png         146          False  2021-02-15T12:39:42.000000Z\n",
      "27   100                   Ireland    IRE    https://cdn.sportmonks.com/images/cricket/teams/4/100.png      190324           True  2019-02-08T11:22:03.000000Z\n",
      "28   115                 Hong Kong     HK   https://cdn.sportmonks.com/images/cricket/teams/19/115.png       64306           True  2019-10-30T06:40:02.000000Z\n",
      "29   140                    Canada    CAN   https://cdn.sportmonks.com/images/cricket/teams/12/140.png      190324           True  2019-11-05T09:22:02.000000Z\n",
      "30   143                     Kenya    KEN   https://cdn.sportmonks.com/images/cricket/teams/15/143.png      190324           True  2018-11-13T21:14:56.000000Z\n",
      "31   146               Netherlands    NLD   https://cdn.sportmonks.com/images/cricket/teams/18/146.png      190324           True  2019-02-13T16:25:02.000000Z\n",
      "32   152                     Nepal    NPL   https://cdn.sportmonks.com/images/cricket/teams/24/152.png      190324           True  2020-02-08T15:54:07.000000Z\n",
      "33   155                      Oman    OMN   https://cdn.sportmonks.com/images/cricket/teams/27/155.png      190324           True  2019-02-08T11:22:03.000000Z\n",
      "34   272                       USA    USA   https://cdn.sportmonks.com/images/cricket/teams/16/272.png    14566636          False  2019-01-26T11:48:13.000000Z\n",
      "35   293                   Namibia    NAM    https://cdn.sportmonks.com/images/cricket/teams/5/293.png      190324          False  2019-10-28T08:40:04.000000Z\n",
      "36   296          Papua New Guinea    PNG    https://cdn.sportmonks.com/images/cricket/teams/8/296.png      190324          False  2019-10-30T06:43:02.000000Z\n",
      "37   302                   Estonia    EST   https://cdn.sportmonks.com/images/cricket/teams/14/302.png      190324          False  2021-10-04T14:12:14.000000Z\n",
      "38   305                     Spain    ESP   https://cdn.sportmonks.com/images/cricket/teams/17/305.png      190324          False  2019-03-16T11:32:10.000000Z\n",
      "39   308                     Malta    MLT   https://cdn.sportmonks.com/images/cricket/teams/20/308.png      190324          False  2019-03-16T11:31:33.000000Z\n",
      "40   326                   Germany    DEU    https://cdn.sportmonks.com/images/cricket/teams/6/326.png      190324           True  2021-06-21T13:12:45.000000Z\n",
      "41   329                     Italy    ITA    https://cdn.sportmonks.com/images/cricket/teams/9/329.png         251           True  2019-04-03T11:09:15.000000Z\n",
      "42   370                   Belgium    BEL   https://cdn.sportmonks.com/images/cricket/teams/18/370.png      190324          False  2019-05-08T19:57:46.000000Z\n",
      "43   396                    Jersey    JEY   https://cdn.sportmonks.com/images/cricket/teams/12/396.png      190324          False  2019-05-27T19:16:17.000000Z\n",
      "44   399                  Guernsey    GGY   https://cdn.sportmonks.com/images/cricket/teams/15/399.png      190324          False  2019-05-27T19:17:12.000000Z\n",
      "45   402                  Malaysia    MYS   https://cdn.sportmonks.com/images/cricket/teams/18/402.png      190324           True  2020-02-20T11:23:02.000000Z\n",
      "46   414                   Denmark    DNK   https://cdn.sportmonks.com/images/cricket/teams/30/414.png         320          False  2019-07-04T22:27:12.000000Z\n",
      "47   417                   Finland    FIN    https://cdn.sportmonks.com/images/cricket/teams/1/417.png        1233          False  2019-07-04T22:26:47.000000Z\n",
      "48   420                    Kuwait    KWT    https://cdn.sportmonks.com/images/cricket/teams/4/420.png       21462           True  2019-07-05T21:58:31.000000Z\n",
      "49   423                     Qatar    QAT    https://cdn.sportmonks.com/images/cricket/teams/7/423.png       74505           True  2020-02-12T09:44:02.000000Z\n",
      "50   429                 Singapore    SIN   https://cdn.sportmonks.com/images/cricket/teams/13/429.png       99474          False  2019-09-24T19:55:02.000000Z\n",
      "51   456                  Botswana    BWA    https://cdn.sportmonks.com/images/cricket/teams/8/456.png      190324          False  2019-08-19T11:18:56.000000Z\n",
      "52   483  United States of America    USA    https://cdn.sportmonks.com/images/cricket/teams/3/483.png      190324           True  2019-08-28T14:40:17.000000Z\n",
      "53   486                   Romania    ROU    https://cdn.sportmonks.com/images/cricket/teams/6/486.png      190324          False  2019-08-27T18:22:34.000000Z\n",
      "54   489                   Austria    AUT    https://cdn.sportmonks.com/images/cricket/teams/9/489.png      190324           True  2019-08-27T18:24:00.000000Z\n",
      "55   492            Czech Republic    CZE   https://cdn.sportmonks.com/images/cricket/teams/12/492.png      190324           True  2019-08-27T18:24:53.000000Z\n",
      "56   495                Luxembourg    LUX   https://cdn.sportmonks.com/images/cricket/teams/15/495.png      190324           True  2019-08-27T18:26:28.000000Z\n",
      "57   498                    Turkey    TUR   https://cdn.sportmonks.com/images/cricket/teams/18/498.png      190324           True  2019-08-27T18:27:20.000000Z\n",
      "58   501                    Russia    RUS   https://cdn.sportmonks.com/images/cricket/teams/21/501.png      190324           True  2019-08-27T18:31:20.000000Z\n",
      "59   552                   Vanuatu    VUT    https://cdn.sportmonks.com/images/cricket/teams/8/552.png      190324           True  2019-09-27T16:54:33.000000Z\n",
      "60   561                 Gibraltar    GIB   https://cdn.sportmonks.com/images/cricket/teams/17/561.png      190324           True  2019-10-04T18:26:51.000000Z\n",
      "61   678                    Uganda    UGA    https://cdn.sportmonks.com/images/cricket/teams/6/678.png        4125          False  2020-02-12T09:44:02.000000Z\n",
      "62  1065               Isle of Man    IMN   https://cdn.sportmonks.com/images/cricket/teams/9/1065.png       99474          False  2020-08-11T09:46:20.000000Z\n",
      "63  1311                  Bulgaria    BGR  https://cdn.sportmonks.com/images/cricket/teams/31/1311.png      190324          False  2021-06-21T13:13:10.000000Z\n",
      "64  1829                    Serbia    SEB   https://cdn.sportmonks.com/images/cricket/teams/5/1829.png      190324          False  2021-06-21T13:16:31.000000Z\n",
      "65  1850                    Sweden    SWE  https://cdn.sportmonks.com/images/cricket/teams/26/1850.png       99474          False  2022-06-07T16:13:55.000000Z\n",
      "66  1856                   Hungary    HUN   https://cdn.sportmonks.com/images/cricket/teams/0/1856.png          41          False  2021-07-01T20:11:07.000000Z\n",
      "67  1880                    France    FRA  https://cdn.sportmonks.com/images/cricket/teams/24/1880.png      190324          False  2022-09-26T03:36:00.000000Z\n",
      "68  1958               Switzerland    CHE   https://cdn.sportmonks.com/images/cricket/teams/6/1958.png      190324          False  2021-10-09T21:52:27.000000Z\n",
      "69  2057                   Bahrain    BHR   https://cdn.sportmonks.com/images/cricket/teams/9/2057.png      190324          False  2022-01-29T11:56:14.000000Z\n",
      "70  2060          Western Province     WP  https://cdn.sportmonks.com/images/cricket/teams/12/2060.png         146          False  2022-02-02T09:43:17.000000Z\n",
      "71  2063                     Rocks    ROC  https://cdn.sportmonks.com/images/cricket/teams/15/2063.png         146          False  2022-02-05T19:30:00.000000Z\n",
      "72  2066        North West Dragons    NWD  https://cdn.sportmonks.com/images/cricket/teams/18/2066.png         146          False  2022-10-12T19:41:50.000000Z\n",
      "73  2156                   Croatia    HRV                                   https://cdn.sportmonks.com      190324          False  2022-07-24T12:50:38.000000Z\n",
      "74  2183                 Indonesia    ISN   https://cdn.sportmonks.com/images/cricket/teams/7/2183.png      190324          False  2022-08-04T13:54:57.000000Z\n",
      "75  2186                     Japan    JPN  https://cdn.sportmonks.com/images/cricket/teams/10/2186.png      190324          False  2022-08-04T13:55:57.000000Z\n",
      "76  2252                    Rwanda    RWA  https://cdn.sportmonks.com/images/cricket/teams/12/2252.png      190324          False  2022-10-29T19:53:57.000000Z\n",
      "77  2255                  Tanzania    TZA  https://cdn.sportmonks.com/images/cricket/teams/15/2255.png      190324          False  2022-10-29T19:55:07.000000Z\n"
     ]
    }
   ],
   "source": [
    "print(player.to_string())"
   ]
  },
  {
   "cell_type": "code",
   "execution_count": null,
   "id": "0ff5e2ed-4bc1-4d75-a2b5-b34bafd74ad1",
   "metadata": {},
   "outputs": [],
   "source": []
  }
 ],
 "metadata": {
  "kernelspec": {
   "display_name": "Python 3 (ipykernel)",
   "language": "python",
   "name": "python3"
  },
  "language_info": {
   "codemirror_mode": {
    "name": "ipython",
    "version": 3
   },
   "file_extension": ".py",
   "mimetype": "text/x-python",
   "name": "python",
   "nbconvert_exporter": "python",
   "pygments_lexer": "ipython3",
   "version": "3.12.7"
  }
 },
 "nbformat": 4,
 "nbformat_minor": 5
}
