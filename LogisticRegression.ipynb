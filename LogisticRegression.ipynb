{
 "cells": [
  {
   "cell_type": "code",
   "execution_count": 1,
   "id": "64863f1e-97a2-496b-a7e9-685da00aae89",
   "metadata": {},
   "outputs": [
    {
     "name": "stdout",
     "output_type": "stream",
     "text": [
      "Requirement already satisfied: scikit-learn in c:\\users\\pc\\anaconda3\\lib\\site-packages (1.5.1)\n",
      "Requirement already satisfied: numpy>=1.19.5 in c:\\users\\pc\\anaconda3\\lib\\site-packages (from scikit-learn) (1.26.4)\n",
      "Requirement already satisfied: scipy>=1.6.0 in c:\\users\\pc\\anaconda3\\lib\\site-packages (from scikit-learn) (1.13.1)\n",
      "Requirement already satisfied: joblib>=1.2.0 in c:\\users\\pc\\anaconda3\\lib\\site-packages (from scikit-learn) (1.4.2)\n",
      "Requirement already satisfied: threadpoolctl>=3.1.0 in c:\\users\\pc\\anaconda3\\lib\\site-packages (from scikit-learn) (3.5.0)\n",
      "Note: you may need to restart the kernel to use updated packages.\n"
     ]
    }
   ],
   "source": [
    "pip install scikit-learn"
   ]
  },
  {
   "cell_type": "code",
   "execution_count": null,
   "id": "7cb56237-af9f-4b22-8a28-993afeb998e4",
   "metadata": {},
   "outputs": [
    {
     "name": "stderr",
     "output_type": "stream",
     "text": [
      "C:\\Users\\pc\\anaconda3\\Lib\\site-packages\\sklearn\\utils\\validation.py:1339: DataConversionWarning: A column-vector y was passed when a 1d array was expected. Please change the shape of y to (n_samples, ), for example using ravel().\n",
      "  y = column_or_1d(y, warn=True)\n"
     ]
    }
   ],
   "source": [
    "import numpy as np\n",
    "import pandas as pd\n",
    "from sklearn.linear_model import LogisticRegression\n",
    "\n",
    "studentsdata = {\n",
    "    'Hours Study' : [1,2,3,4,5,6,7,8,9,10],\n",
    "    'Result' : [0,0,0,1,0,1,1,1,1,1]\n",
    "}\n",
    "\n",
    "df = pd.DataFrame(studentsdata)\n",
    "\n",
    "df\n",
    "\n",
    "X = df[['Hours Study']]\n",
    "Y = df[['Result']]\n",
    "\n",
    "model = LogisticRegression()\n",
    "\n",
    "model.fit(X,Y)\n",
    "\n",
    "study_hours = int(input(\"Enter the Study Hours :\"))\n",
    "\n",
    "prediction = model.predict([[study_hours]])\n",
    "\n",
    "print(f\"\\nHours of Study: {study_hours}\")\n",
    "print(f\"Predicted Result: {'Pass ✅' if prediction[0] == 1 else 'Fail ❌'}\")"
   ]
  },
  {
   "cell_type": "code",
   "execution_count": null,
   "id": "c8b02559-9fc4-496e-9d0f-b66549258a0d",
   "metadata": {},
   "outputs": [],
   "source": []
  }
 ],
 "metadata": {
  "kernelspec": {
   "display_name": "Python 3 (ipykernel)",
   "language": "python",
   "name": "python3"
  },
  "language_info": {
   "codemirror_mode": {
    "name": "ipython",
    "version": 3
   },
   "file_extension": ".py",
   "mimetype": "text/x-python",
   "name": "python",
   "nbconvert_exporter": "python",
   "pygments_lexer": "ipython3",
   "version": "3.12.7"
  }
 },
 "nbformat": 4,
 "nbformat_minor": 5
}
