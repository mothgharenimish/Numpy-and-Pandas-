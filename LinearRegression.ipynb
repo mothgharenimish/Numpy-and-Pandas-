{
 "cells": [
  {
   "cell_type": "code",
   "execution_count": 50,
   "id": "a20387fb-117d-4c85-90ae-85ec53a30c01",
   "metadata": {},
   "outputs": [
    {
     "name": "stdout",
     "output_type": "stream",
     "text": [
      "Dataset:\n",
      "    Hours Study  Exam Score\n",
      "0            1          21\n",
      "1            2          90\n",
      "2            3          43\n",
      "3            4          76\n",
      "4            5         120\n",
      "5            6         112\n",
      "6            7         223\n",
      "7            8          54\n",
      "8            9         123\n",
      "9           10         100\n"
     ]
    },
    {
     "name": "stdin",
     "output_type": "stream",
     "text": [
      "Enter the number of hours of your study:  3\n"
     ]
    },
    {
     "name": "stdout",
     "output_type": "stream",
     "text": [
      "Predicted Exam Score : 67.78\n",
      "Slope (m): 10.336206896551724\n",
      "Intercept (c): 36.775862068965516\n"
     ]
    },
    {
     "name": "stderr",
     "output_type": "stream",
     "text": [
      "C:\\Users\\pc\\anaconda3\\Lib\\site-packages\\sklearn\\base.py:493: UserWarning: X does not have valid feature names, but LinearRegression was fitted with feature names\n",
      "  warnings.warn(\n"
     ]
    }
   ],
   "source": [
    "import numpy as np\n",
    "import pandas as pd\n",
    "from sklearn.model_selection import train_test_split\n",
    "from sklearn.linear_model import LinearRegression\n",
    "\n",
    "# Step 2: Create dataset\n",
    "nimishdata = {\n",
    "    'Hours Study': [1, 2, 3, 4, 5, 6, 7, 8, 9, 10],\n",
    "    'Exam Score': [21, 90, 43, 76, 120, 112, 223, 54, 123, 100]\n",
    "}\n",
    "\n",
    "df = pd.DataFrame(nimishdata)\n",
    "print(\"Dataset:\\n\", df)\n",
    "\n",
    "# Step 4: Features and labels\n",
    "X = df[['Hours Study']]   # Independent variable\n",
    "Y = df[['Exam Score']]    # Dependent variable\n",
    "\n",
    "# Step 5: Split dataset\n",
    "X_train, X_test, Y_train, Y_test = train_test_split(\n",
    "    X, Y, test_size=0.2, random_state=42\n",
    ")\n",
    "\n",
    "# Step 6: Train model\n",
    "model = LinearRegression()\n",
    "model.fit(X_train, Y_train)\n",
    "\n",
    "# User input\n",
    "userinputs = float(input(\"Enter the number of hours of your study: \"))\n",
    "\n",
    "# Step 7: Prediction\n",
    "predicted_score = model.predict(np.array([[userinputs]]))\n",
    "\n",
    "print(f\"Predicted Exam Score : {predicted_score[0][0]:.2f}\")\n",
    "print(\"Slope (m):\", model.coef_[0][0])\n",
    "print(\"Intercept (c):\", model.intercept_[0])"
   ]
  },
  {
   "cell_type": "code",
   "execution_count": null,
   "id": "12d9b532-5c94-4766-9f78-aa7b3f8e7c83",
   "metadata": {},
   "outputs": [],
   "source": []
  },
  {
   "cell_type": "code",
   "execution_count": null,
   "id": "3b87c756-2209-4576-9d0f-d126937389f1",
   "metadata": {},
   "outputs": [],
   "source": []
  },
  {
   "cell_type": "code",
   "execution_count": null,
   "id": "beffc387-a673-4cbd-bb22-3d0befd5819d",
   "metadata": {},
   "outputs": [],
   "source": []
  }
 ],
 "metadata": {
  "kernelspec": {
   "display_name": "Python 3 (ipykernel)",
   "language": "python",
   "name": "python3"
  },
  "language_info": {
   "codemirror_mode": {
    "name": "ipython",
    "version": 3
   },
   "file_extension": ".py",
   "mimetype": "text/x-python",
   "name": "python",
   "nbconvert_exporter": "python",
   "pygments_lexer": "ipython3",
   "version": "3.12.7"
  }
 },
 "nbformat": 4,
 "nbformat_minor": 5
}
